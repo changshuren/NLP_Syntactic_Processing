{
  "cells": [
    {
      "cell_type": "markdown",
      "metadata": {
        "id": "jCy6Hw3LjXEz"
      },
      "source": [
        "## Importing libraries"
      ]
    },
    {
      "cell_type": "code",
      "execution_count": 12,
      "metadata": {
        "id": "MBorzfsNjXE0"
      },
      "outputs": [],
      "source": [
        "import pandas as pd\n",
        "import numpy as np\n",
        "import os\n",
        "import spacy \n",
        "from tqdm import tqdm"
      ]
    },
    {
      "cell_type": "markdown",
      "metadata": {
        "id": "gjlVHS9yjXE1"
      },
      "source": [
        "### Read reviews data"
      ]
    },
    {
      "cell_type": "code",
      "execution_count": 13,
      "metadata": {
        "id": "unZvzHyPjXE2"
      },
      "outputs": [],
      "source": [
        "con=open(\"./Samsung.txt\",'r', encoding=\"utf-8\")\n",
        "samsung_reviews=con.read()\n",
        "con.close()"
      ]
    },
    {
      "cell_type": "markdown",
      "metadata": {},
      "source": [
        "The con.close() is needed for the following code because it closes the file \"./Samsung.txt\" after reading it. This is important for two reasons:\n",
        "\n",
        "It frees up the system resources that were allocated to the file, such as memory and file handles.\n",
        "It ensures that any changes made to the file are flushed to the disk, avoiding data loss or corruption.\n",
        "You should always close your files after using them, preferably using the with statement, which automatically closes the file when the block of code ends . For example, you can rewrite your code as:"
      ]
    },
    {
      "cell_type": "code",
      "execution_count": 14,
      "metadata": {},
      "outputs": [],
      "source": [
        "# the above codes can be rewritten as follows\n",
        "with open(\"./Samsung.txt\",'r', encoding=\"utf-8\") as con:\n",
        "    samsung_reviews=con.read()"
      ]
    },
    {
      "cell_type": "markdown",
      "metadata": {
        "id": "-Xp3V0sijXE4"
      },
      "source": [
        "### Can we reduce the time taken?\n",
        "[Pipelines (Spacy)](https://spacy.io/usage/processing-pipelines)\n"
      ]
    },
    {
      "cell_type": "markdown",
      "metadata": {
        "id": "hcz71QGCjXE5"
      },
      "source": [
        "<img src='./images/spacy_pipeline.png'>"
      ]
    },
    {
      "cell_type": "code",
      "execution_count": 15,
      "metadata": {
        "id": "fStfPPgCjXE6"
      },
      "outputs": [],
      "source": [
        "# shorten the pipline loading\n",
        "nlp=spacy.load('en_core_web_sm',disable=['parser','ner'])"
      ]
    },
    {
      "cell_type": "code",
      "execution_count": 16,
      "metadata": {
        "id": "dx3Ylbe5jXE6",
        "outputId": "2c44d403-1088-4268-f062-98bf412fbab7"
      },
      "outputs": [
        {
          "name": "stderr",
          "output_type": "stream",
          "text": [
            "  0%|          | 0/1000 [00:00<?, ?it/s]"
          ]
        },
        {
          "name": "stderr",
          "output_type": "stream",
          "text": [
            "100%|██████████| 1000/1000 [00:03<00:00, 280.53it/s]\n"
          ]
        }
      ],
      "source": [
        "nouns = []\n",
        "for review in tqdm(samsung_reviews.split(\"\\n\")[0:1000]):\n",
        "    doc = nlp(review)\n",
        "    for tok in doc:\n",
        "        if tok.pos_==\"NOUN\":\n",
        "            nouns.append(tok.lemma_.lower())"
      ]
    },
    {
      "cell_type": "code",
      "execution_count": 17,
      "metadata": {
        "id": "2KmwyyX-jXE8"
      },
      "outputs": [
        {
          "data": {
            "text/plain": [
              "46355"
            ]
          },
          "execution_count": 17,
          "metadata": {},
          "output_type": "execute_result"
        }
      ],
      "source": [
        "len(samsung_reviews.split(\"\\n\"))"
      ]
    },
    {
      "cell_type": "code",
      "execution_count": 9,
      "metadata": {
        "id": "XUf8-pG1jXE9",
        "outputId": "288bda64-52b2-48dc-ce1d-bcecf596c39f"
      },
      "outputs": [
        {
          "data": {
            "text/plain": [
              "278.13"
            ]
          },
          "execution_count": 9,
          "metadata": {},
          "output_type": "execute_result"
        }
      ],
      "source": [
        "(46355/1000)*6 # for instructor's computer"
      ]
    },
    {
      "cell_type": "code",
      "execution_count": 18,
      "metadata": {},
      "outputs": [
        {
          "data": {
            "text/plain": [
              "139.065"
            ]
          },
          "execution_count": 18,
          "metadata": {},
          "output_type": "execute_result"
        }
      ],
      "source": [
        "(46355/1000)*3 # for my computer"
      ]
    },
    {
      "cell_type": "code",
      "execution_count": 10,
      "metadata": {
        "id": "nX83oQevjXE9",
        "outputId": "095ef791-0bd5-4310-dc03-00fba9af3a33"
      },
      "outputs": [
        {
          "data": {
            "text/plain": [
              "4.633333333333334"
            ]
          },
          "execution_count": 10,
          "metadata": {},
          "output_type": "execute_result"
        }
      ],
      "source": [
        "278/60 # for instructor's computer"
      ]
    },
    {
      "cell_type": "code",
      "execution_count": 20,
      "metadata": {},
      "outputs": [
        {
          "data": {
            "text/plain": [
              "2.3275"
            ]
          },
          "execution_count": 20,
          "metadata": {},
          "output_type": "execute_result"
        }
      ],
      "source": [
        "139.65/60 # for my computer"
      ]
    },
    {
      "cell_type": "markdown",
      "metadata": {
        "id": "-qZDcM2njXE-"
      },
      "source": [
        "### Lets process all the reviews now and see if time taken is less !!!"
      ]
    },
    {
      "cell_type": "code",
      "execution_count": 25,
      "metadata": {
        "id": "KiftxQmcjXE-",
        "outputId": "1f035757-c703-4fd5-fc25-14b99efeca8f"
      },
      "outputs": [
        {
          "name": "stderr",
          "output_type": "stream",
          "text": [
            "  0%|          | 0/46355 [00:00<?, ?it/s]"
          ]
        },
        {
          "name": "stderr",
          "output_type": "stream",
          "text": [
            "100%|██████████| 46355/46355 [03:46<00:00, 204.90it/s]\n"
          ]
        }
      ],
      "source": [
        "nouns = []\n",
        "for review in tqdm(samsung_reviews.split(\"\\n\")):\n",
        "    doc = nlp(review)\n",
        "    for tok in doc:\n",
        "        if tok.pos_==\"NOUN\":\n",
        "            nouns.append(tok.lemma_.lower())"
      ]
    },
    {
      "cell_type": "markdown",
      "metadata": {
        "id": "4tDq-KDOjXE_"
      },
      "source": [
        "### Does the hypothesis of nouns capturing `product features` hold?"
      ]
    },
    {
      "cell_type": "code",
      "execution_count": 26,
      "metadata": {
        "id": "f_9BsBMvjXFA",
        "outputId": "04060afd-fb64-4c84-e55f-eaba0cc85446"
      },
      "outputs": [
        {
          "data": {
            "text/plain": [
              "phone      43507\n",
              "battery     4334\n",
              "product     3992\n",
              "screen      3838\n",
              "time        3810\n",
              "Name: count, dtype: int64"
            ]
          },
          "execution_count": 26,
          "metadata": {},
          "output_type": "execute_result"
        }
      ],
      "source": [
        "nouns=pd.Series(nouns)\n",
        "nouns.value_counts().head(5)"
      ]
    },
    {
      "cell_type": "code",
      "execution_count": 27,
      "metadata": {
        "id": "7g33CJOXjXFA",
        "outputId": "525c082f-6d7e-4755-997f-13d2b8cddfb9"
      },
      "outputs": [
        {
          "data": {
            "text/plain": [
              "phone      43507\n",
              "battery     4334\n",
              "product     3992\n",
              "screen      3838\n",
              "time        3810\n",
              "card        3384\n",
              "price       3149\n",
              "problem     3137\n",
              "camera      2936\n",
              "app         2593\n",
              "Name: count, dtype: int64"
            ]
          },
          "execution_count": 27,
          "metadata": {},
          "output_type": "execute_result"
        }
      ],
      "source": [
        "nouns.value_counts().head(10)"
      ]
    },
    {
      "cell_type": "markdown",
      "metadata": {
        "id": "qlp6FvUMjXFB"
      },
      "source": [
        "### We now know that people mention `battery`, `product`, `screen` etc. But we still don't know in what context they mention these keywords"
      ]
    },
    {
      "cell_type": "markdown",
      "metadata": {
        "id": "zurzvf_tjXFB"
      },
      "source": [
        "### Summary:\n",
        " - Most frequently used lemmatised forms of noun, inform us about the product features people are talking about in product reviews\n",
        " - In order to process the review data faster spacy allows us to use the idea of enabling parts of model inference pipeline via `spacy.loads()` command and `disable` parameter"
      ]
    },
    {
      "cell_type": "code",
      "execution_count": null,
      "metadata": {
        "id": "qmCWc_9vjXFC"
      },
      "outputs": [],
      "source": []
    }
  ],
  "metadata": {
    "colab": {
      "name": "POS3.ipynb.txt",
      "provenance": []
    },
    "kernelspec": {
      "display_name": "Python 3",
      "language": "python",
      "name": "python3"
    },
    "language_info": {
      "codemirror_mode": {
        "name": "ipython",
        "version": 3
      },
      "file_extension": ".py",
      "mimetype": "text/x-python",
      "name": "python",
      "nbconvert_exporter": "python",
      "pygments_lexer": "ipython3",
      "version": "3.12.0"
    }
  },
  "nbformat": 4,
  "nbformat_minor": 0
}
